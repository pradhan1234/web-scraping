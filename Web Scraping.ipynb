{
 "cells": [
  {
   "cell_type": "markdown",
   "metadata": {},
   "source": [
    "# Web Scraping Tutorial "
   ]
  },
  {
   "cell_type": "markdown",
   "metadata": {},
   "source": [
    "> In this tutorial, we would be scraping information of products from an e-commerce website newegg.com\n",
    "\n",
    "#Download Anaconda"
   ]
  },
  {
   "cell_type": "markdown",
   "metadata": {},
   "source": [
    "### Import the necessary libraries\n",
    "\n",
    "> In order to import the libraries, an installation of the same is required when doing for first time\n",
    "\n",
    "<pre><code>$ pip install beautifulsoup4\n",
    "\n",
    "</code></pre>\n",
    "\n",
    "> Link to beautiful soup documentation: https://www.crummy.com/software/BeautifulSoup/bs4/doc/\n"
   ]
  },
  {
   "cell_type": "code",
   "execution_count": 34,
   "metadata": {},
   "outputs": [
    {
     "data": {
      "text/plain": [
       "'\\nPython basics\\nVariables\\nPrint statements\\nData Types String, num\\nloops\\n\\n\\nimport packages for ready code\\n'"
      ]
     },
     "execution_count": 34,
     "metadata": {},
     "output_type": "execute_result"
    }
   ],
   "source": [
    "from bs4 import BeautifulSoup\n",
    "import requests\n",
    "\n",
    "\"\"\"\n",
    "Python basics\n",
    "Variables\n",
    "Print statements\n",
    "Data Types String, num\n",
    "loops\n",
    "\n",
    "\n",
    "import packages for ready code\n",
    "\"\"\""
   ]
  },
  {
   "cell_type": "markdown",
   "metadata": {},
   "source": [
    "### Decide on a webpage for scraping"
   ]
  },
  {
   "cell_type": "code",
   "execution_count": 28,
   "metadata": {},
   "outputs": [],
   "source": [
    "# url = \"https://www.newegg.com/Product/ProductList.aspx?Submit=StoreIM&Depa=1&Category=38\"\n",
    "# url = \"https://www.newegg.com/Video-Cards-Video-Devices/Category/ID-38?Tpk=graphics%20cards\"\n",
    "# url = \"https://www.newegg.com/Product/ProductList.aspx?Submit=ENE&DEPA=0&Order=BESTMATCH&Description=mobile&N=-1&isNodeId=1\"\n",
    "\n",
    "# url = \"https://www.newegg.com/Product/ProductList.aspx?Submit=ENE&DEPA=0&Order=BESTMATCH&Description=mobile&N=-1&isNodeId=22\"\n",
    "# headers = {'User-Agent': 'Mozilla/5.0 (Windows NT 6.3; Win64; x64) AppleWebKit/537.36 (KHTML, like Gecko) Chrome/54.0.2840.71 Safari/537.36'}\n",
    "url = \"https://www.newegg.com/Product/ProductList.aspx?Submit=ENE&DEPA=0&Order=BESTMATCH&Description=mobile&ignorear=0&N=-1&isNodeId=1\"\n",
    "headers = {'User-Agent': 'Chrome/54.0.2840.71'}"
   ]
  },
  {
   "cell_type": "markdown",
   "metadata": {},
   "source": [
    "> The headers is required to be sent when making a request to server because most servers can identify and block requests coming from a script, remember to be nice with the server."
   ]
  },
  {
   "cell_type": "markdown",
   "metadata": {},
   "source": [
    "### Make a request to the webpage using its URL and convert response to a Beautiful Soup object"
   ]
  },
  {
   "cell_type": "code",
   "execution_count": 35,
   "metadata": {},
   "outputs": [],
   "source": [
    "response = requests.get(url, headers)\n",
    "\n",
    "# print(response.content)\n",
    "soup = BeautifulSoup(response.content, \"html\")\n",
    "# print(soup.prettify())"
   ]
  },
  {
   "cell_type": "markdown",
   "metadata": {},
   "source": [
    "> Before going ahead let's see how does response and soup look like"
   ]
  },
  {
   "cell_type": "markdown",
   "metadata": {},
   "source": [
    "### Try Out basic commands, refer to the documentation for more"
   ]
  },
  {
   "cell_type": "code",
   "execution_count": 36,
   "metadata": {},
   "outputs": [
    {
     "name": "stdout",
     "output_type": "stream",
     "text": [
      "Title Tag: <title>mobile - Newegg.com</title>\n",
      "Tag Name: title\n",
      "Title String: mobile - Newegg.com\n",
      "<h1 class=\"page-title-text\">\"mobile\"</h1>\n"
     ]
    }
   ],
   "source": [
    "#Basic Traversal\n",
    "\n",
    "# title of the page\n",
    "print(\"Title Tag:\", soup.title)\n",
    "\n",
    "# # get attributes:\n",
    "print(\"Tag Name:\", soup.title.name)\n",
    "\n",
    "# # get values:\n",
    "print(\"Title String:\",soup.title.string)\n",
    "\n",
    "# # beginning navigation:\n",
    "# print(soup.title.parent.name)\n",
    "\n",
    "print(soup.h1)\n",
    "\n",
    "# # getting specific values:\n",
    "# print(soup.p)\n",
    "\n",
    "# all p tags\n",
    "# print(soup.find_all('p'))\n",
    "\n",
    "#iterate using loop\n",
    "# for paragraph in soup.find_all('p'):\n",
    "#     print(str(paragraph.text))\n",
    "\n",
    "# for url in soup.find_all('a'):\n",
    "#     print(url.get('href'))"
   ]
  },
  {
   "cell_type": "markdown",
   "metadata": {},
   "source": [
    "### Get hold of a product\n",
    "\n",
    "> we'll first extract information from single product, then run a loop for automation"
   ]
  },
  {
   "cell_type": "code",
   "execution_count": 37,
   "metadata": {},
   "outputs": [
    {
     "name": "stdout",
     "output_type": "stream",
     "text": [
      "Moto G5s Plus (Special Edition) Unlocked Smartphone Dual Camera (5.5\" Lunar Gray, 32GB Storage 3GB RAM) US Warranty\n"
     ]
    }
   ],
   "source": [
    "var = soup.find(\"div\", {\"class\":\"item-container\"})\n",
    "# print(var)\n",
    "tag = var.find(\"a\", {\"class\":\"item-title\"})\n",
    "print(tag.text)"
   ]
  },
  {
   "cell_type": "code",
   "execution_count": 38,
   "metadata": {},
   "outputs": [],
   "source": [
    "containers = soup.findAll(\"div\", {\"class\":\"item-container\"})"
   ]
  },
  {
   "cell_type": "code",
   "execution_count": 39,
   "metadata": {},
   "outputs": [
    {
     "name": "stdout",
     "output_type": "stream",
     "text": [
      "Total Records: 36\n"
     ]
    }
   ],
   "source": [
    "print(\"Total Records:\", len(containers))\n",
    "\n",
    "# print(containers[0])\n",
    "# paste to sublime and analyze"
   ]
  },
  {
   "cell_type": "markdown",
   "metadata": {},
   "source": [
    "### Find out what aspects of the product are we interested in!"
   ]
  },
  {
   "cell_type": "code",
   "execution_count": 40,
   "metadata": {},
   "outputs": [],
   "source": [
    "# \"\"\"\n",
    "# What all information do we need?\n",
    "# Information that repeats everywhere\n",
    "# Brand of the product\n",
    "# Names\n",
    "# Price?\n",
    "# Shipping\n",
    "# \"\"\""
   ]
  },
  {
   "cell_type": "code",
   "execution_count": 41,
   "metadata": {},
   "outputs": [
    {
     "name": "stdout",
     "output_type": "stream",
     "text": [
      "Motorola\n"
     ]
    }
   ],
   "source": [
    "container = containers[0]\n",
    "\n",
    "# print(container)\n",
    "\n",
    "#Brand of the product\n",
    "# print(container.a)\n",
    "# print(container.div)\n",
    "\n",
    "# print(container.div.div.a)\n",
    "\n",
    "# #referencing as array\n",
    "print(container.div.div.a.img[\"title\"])\n",
    "\n",
    "# print(container.div.a)\n",
    "\n",
    "# print(container)"
   ]
  },
  {
   "cell_type": "code",
   "execution_count": 42,
   "metadata": {},
   "outputs": [
    {
     "name": "stdout",
     "output_type": "stream",
     "text": [
      "Moto G5s Plus (Special Edition) Unlocked Smartphone Dual Camera (5.5\" Lunar Gray, 32GB Storage 3GB RAM) US Warranty\n"
     ]
    }
   ],
   "source": [
    "#title of the product\n",
    "title_container = container.findAll(\"a\", {\"class\":\"item-title\"})\n",
    "\n",
    "# print(title_container)\n",
    "print(title_container[0].text)"
   ]
  },
  {
   "cell_type": "code",
   "execution_count": 43,
   "metadata": {},
   "outputs": [
    {
     "name": "stdout",
     "output_type": "stream",
     "text": [
      "Free Shipping\n"
     ]
    }
   ],
   "source": [
    "#shipping price\n",
    "shipping_container = container.findAll(\"li\", {\"class\":\"price-ship\"})\n",
    "\n",
    "# print(shipping_container[0].text)\n",
    "# print(shipping_container[0].text.strip())\n",
    "shipping = shipping_container[0].text.strip()\n",
    "print(shipping)"
   ]
  },
  {
   "cell_type": "code",
   "execution_count": 44,
   "metadata": {},
   "outputs": [
    {
     "name": "stdout",
     "output_type": "stream",
     "text": [
      "274\n"
     ]
    }
   ],
   "source": [
    "#price\n",
    "\n",
    "# print(container.div.findAll(\"div\", {\"class\":\"item-action\"})[0].findAll(\"li\", {\"class\":\"price-current\"})[0].sup.text)\n",
    "price_container_d = container.div.findAll(\"div\", {\"class\":\"item-action\"})[0].findAll(\"li\", {\"class\":\"price-current\"})[0].strong.text\n",
    "price_container_c = container.div.findAll(\"div\", {\"class\":\"item-action\"})[0].findAll(\"li\", {\"class\":\"price-current\"})[0].sup.text\n",
    "\n",
    "print(price_container_d)"
   ]
  },
  {
   "cell_type": "markdown",
   "metadata": {},
   "source": [
    "### Let's put all this into a loop"
   ]
  },
  {
   "cell_type": "code",
   "execution_count": 45,
   "metadata": {},
   "outputs": [
    {
     "name": "stdout",
     "output_type": "stream",
     "text": [
      "Brand:Motorola\n",
      "Product Name:Moto G5s Plus (Special Edition) Unlocked Smartphone Dual Camera (5.5\" Lunar Gray, 32GB Storage 3GB RAM) US Warranty\n",
      "Shipping:Free Shipping\n",
      "\n",
      "Brand:Motorola\n",
      "Product Name:Motorola Moto G6 4G LTE Unlocked Cell Phone US Version (5.7\" Black, 32GB 3GB RAM)\n",
      "Shipping:Free Shipping\n",
      "\n",
      "Brand:Motorola\n",
      "Product Name:Motorola Nexus 6 XT1100 64GB Unlocked GSM 4G LTE Phone w/ 13MP Camera - Midnight Blue\n",
      "Shipping:Free Shipping\n",
      "\n",
      "Brand:Honor\n",
      "Product Name:Honor View 10 4G LTE Unlocked Cell Phone (5.99\" Blue ,128GB 6GB RAM)\n",
      "Shipping:Free Shipping\n",
      "\n",
      "Brand:Honor\n",
      "Product Name:Honor 7X Unlocked Smartphone with Dual Camera (5.93\" Black, 32GB Storage 3GB RAM) US Warranty\n",
      "Shipping:Free Shipping\n",
      "\n",
      "Brand:SAMSUNG\n",
      "Product Name:Samsung Galaxy S9 G9600 64GB Single SIM Unlocked GSM 4G LTE Phone w/ 12 MP Camera - Midnight Black (International Version)\n",
      "Shipping:Free Shipping\n",
      "\n",
      "Brand:Honor\n",
      "Product Name:Honor 7X Unlocked Smartphone with Dual Camera (5.93\" Blue, 32GB Storage 3GB RAM) US Warranty\n",
      "Shipping:Free Shipping\n",
      "\n",
      "Brand:Honor\n",
      "Product Name:Honor 7X Unlocked Smartphone with Dual Camera (5.93\" Red, 32GB Storage 3GB RAM) US Warranty\n",
      "Shipping:Free Shipping\n",
      "\n",
      "Brand:SAMSUNG\n",
      "Product Name:Samsung Galaxy S9 G9600 64GB Single SIM Unlocked GSM 4G LTE Phone w/ 12 MP Camera - Titanium Gray (International Version)\n",
      "Shipping:Free Shipping\n",
      "\n",
      "Brand:Huawei\n",
      "Product Name:Huawei Mate 10 Pro Unlocked Smartphone with Dual Camera (6\" Midnight Blue, 128GB Storage 6GB RAM) US Warranty\n",
      "Shipping:Free Shipping\n",
      "\n",
      "Brand:Huawei\n",
      "Product Name:Huawei Mate 10 Pro Unlocked Smartphone with Dual Camera (6\" Titanium Gray, 128GB Storage 6GB RAM) US Warranty\n",
      "Shipping:Free Shipping\n",
      "\n",
      "Brand:SAMSUNG\n",
      "Product Name:Samsung Galaxy S8+ (Plus) G955FD Dual SIM GSM Unlocked Smart Phone, 6.2\" AMOLED Display, Midnight Black Color, 64GB Storage International Version - No Warranty\n",
      "Shipping:Free Shipping\n",
      "\n",
      "Brand:Sony Mobile\n",
      "Product Name:Sony Xperia XA 5\" Unlocked Smartphone - 16GB - US Warranty (Graphite Black)\n",
      "Shipping:Free Shipping\n",
      "\n",
      "Brand:Apple\n",
      "Product Name:Refurbished: Apple iPhone 5 32GB 4G LTE White - Verizon Factory Unlocked\n",
      "Shipping:Free Shipping\n",
      "\n",
      "Brand:Huawei\n",
      "Product Name:Huawei Mate SE 4G LTE Unlocked Cell Phone (5.93\" Gold , 64GB Storage 4GB RAM )\n",
      "Shipping:\n",
      "\n",
      "Brand:Apple\n",
      "Product Name:Refurbished: Apple iPhone SE 64GB IOS Unlocked GSM Phone - Rose Gold\n",
      "Shipping:Free Shipping\n",
      "\n",
      "Brand:Nubia\n",
      "Product Name:Nubia N1 Lite 4G LTE Dual SIM Unlocked Smartphone 5.5\" 2GB RAM Black/Gold, US Warranty\n",
      "Shipping:Free Shipping\n",
      "\n",
      "Brand:Motorola\n",
      "Product Name:Moto X4 (4th Gen), 5.2 Inches, FHD LTPS, 3GB RAM, 32GB Storage, Dual Rear Camera, Unlocked Cell Phone, US Warranty, Super Black (PA8S0006US)\n",
      "Shipping:Free Shipping\n",
      "\n",
      "Brand:Nokia\n",
      "Product Name:Nokia 6 TA-1025 Unlocked Smartphone with Dual Camera (5.5\" Silver, 32GB Storage 3GB RAM) US Warranty\n",
      "Shipping:Free Shipping\n",
      "\n",
      "Brand:Nokia\n",
      "Product Name:Nokia 6 TA-1025 Unlocked Smartphone with Dual Camera (5.5\" Black, 32GB Storage 3GB RAM) US Warranty\n",
      "Shipping:Free Shipping\n",
      "\n",
      "Brand:MI\n",
      "Product Name:Xiaomi Redmi 6A 16GB Unlocked GSM Dual-SIM Phone w/ 13MP Camera - Blue\n",
      "Shipping:Free Shipping\n",
      "\n",
      "Brand:Apple\n",
      "Product Name:Apple iPhone 8 Plus 4G LTE Unlocked Cell Phone 5.5\" Silver 256GB 3GB RAM\n",
      "Shipping:Free Shipping\n",
      "\n",
      "Brand:LG Mobile\n",
      "Product Name:LG G6 PLUS H870DSU Unlocked GSM Smartphone International Version (5.7\" Black, 128GB Storage 4GB RAM) No Warranty\n",
      "Shipping:Free Shipping\n",
      "\n",
      "Brand:LG Mobile\n",
      "Product Name:LG Nexus 4 E960 16GB Unlocked GSM Phone w/ 8MP Camera - Black\n",
      "Shipping:Free Shipping\n",
      "\n",
      "Brand:ASUS\n",
      "Product Name:Asus Zenfone 5Z ZS620KL 4G LTE Unlocked Cell Phone 6.2\" Blue 64GB 6GB RAM\n",
      "Shipping:Free Shipping\n",
      "\n",
      "Brand:ASUS\n",
      "Product Name:Asus Zenfone 5Q ZC600KL 4G LTE Unlocked Cell Phone 6\" Black 64GB 4GB RAM\n",
      "Shipping:Free Shipping\n",
      "\n",
      "Brand:Sony Mobile\n",
      "Product Name:Sony Xperia XA1 Ultra G3223 4G LTE Unlocked Smartphone - US Warranty 6\" Black 32GB 4GB RAM\n",
      "Shipping:Free Shipping\n",
      "\n",
      "Brand:ASUS\n",
      "Product Name:Refurbished: Asus ZenFone 3 MAX ZC520TL 4G LTE Unlocked Cell Phone 5.2\" Gray 16GB 2GB RAM\n",
      "Shipping:Free Shipping\n",
      "\n",
      "Brand:LG Mobile\n",
      "Product Name:Refurbished: LG Nexus 5X H790 32GB 4G LTE Unlocked Cell Phone, 5.2\" 2GB RAM Carbon Black, Hexa-core, No Accessory, Grade B\n",
      "Shipping:Free Shipping\n",
      "\n",
      "Brand:Acer America\n",
      "Product Name:Acer Liquid Z630 Unlocked Smartphone with Dual Camera (5.5\" Black, 16GB Storage 2GB RAM) US Warranty\n",
      "Shipping:Free Shipping\n",
      "\n",
      "Brand:HTC\n",
      "Product Name:HTC 10 Evo 32GB Unlocked GSM 4G LTE Octa-Core Rugged Phone w/ 16 MP Camera - Glacial Silver\n",
      "Shipping:Free Shipping\n",
      "\n",
      "Brand:Sony Mobile\n",
      "Product Name:Refurbished: Sony Xperia XA1 G3123 32GB Unlocked GSM LTE Octa-Core Phone w/ 23MP Camera - Black\n",
      "Shipping:Free Shipping\n",
      "\n",
      "Brand:Motorola\n",
      "Product Name:Moto G5 Plus XT1687 32GB Smartphone (Unlocked, Fine Gold) - US Warranty\n",
      "Shipping:Free Shipping\n",
      "\n",
      "Brand:Motorola\n",
      "Product Name:Motorola Moto G6 Play 4G LTE Unlocked Cell Phone US Version (5.7\" Deep Indigo,  32GB 3GB RAM)\n",
      "Shipping:Free Shipping\n",
      "\n",
      "Brand:Honor\n",
      "Product Name:Honor View 10 4G LTE Unlocked Cell Phone (5.99\" Black ,128GB 6GB RAM)\n",
      "Shipping:Free Shipping\n",
      "\n",
      "Brand:Motorola\n",
      "Product Name:Moto Z 64GB Lunar Gray Unlocked Smartphone – US Warranty\n",
      "Shipping:Free Shipping\n",
      "\n"
     ]
    }
   ],
   "source": [
    "for container in containers:\n",
    "    brand = container.div.div.a.img[\"title\"]\n",
    "   \n",
    "    title_container = container.findAll(\"a\", {\"class\":\"item-title\"})\n",
    "    product_name = title_container[0].text\n",
    "    \n",
    "    shipping_container = container.findAll(\"li\", {\"class\":\"price-ship\"})\n",
    "    shipping = shipping_container[0].text.strip()\n",
    "    \n",
    "    print(\"Brand:\" + brand)\n",
    "    print(\"Product Name:\" + product_name)\n",
    "    print(\"Shipping:\" + shipping)\n",
    "    \n",
    "#     try:\n",
    "#         price_container_d = container.div.findAll(\"div\", {\"class\":\"item-action\"})[0].findAll(\"li\", {\"class\":\"price-current\"})[0].strong.text\n",
    "#         price_container_c = container.div.findAll(\"div\", {\"class\":\"item-action\"})[0].findAll(\"li\", {\"class\":\"price-current\"})[0].sup.text\n",
    "#         print(\"Price:\"+price_container_d+price_container_c)\n",
    "#     except:\n",
    "#         print(\"Price: None\")\n",
    "    \n",
    "   \n",
    "    \n",
    "    print()\n",
    "    "
   ]
  },
  {
   "cell_type": "markdown",
   "metadata": {},
   "source": [
    "### Exporting to a CSV file"
   ]
  },
  {
   "cell_type": "code",
   "execution_count": 46,
   "metadata": {},
   "outputs": [],
   "source": [
    "#export to csv file\n",
    "\n",
    "filename = \"all_products.csv\"\n",
    "\n",
    "f = open(filename, \"w\")\n",
    "\n",
    "headers = \"Brand, Product Name, Shipping\\n\"\n",
    "f.write(headers)\n",
    "\n",
    "for container in containers:\n",
    "    brand = container.div.div.a.img[\"title\"]\n",
    "   \n",
    "    title_container = container.findAll(\"a\", {\"class\":\"item-title\"})\n",
    "    product_name = title_container[0].text\n",
    "    \n",
    "    shipping_container = container.findAll(\"li\", {\"class\":\"price-ship\"})\n",
    "    shipping = shipping_container[0].text.strip()\n",
    "\n",
    "    f.write(brand+\",\"+product_name.replace(\",\", \"|\")+\",\"+shipping+\"\\n\")\n",
    "#     print(\"Brand:\" + brand)\n",
    "#     print(\"Product Name:\" + product_name)\n",
    "#     print(\"Shipping:\" + shipping)\n",
    "#     print()\n",
    "f.close()"
   ]
  },
  {
   "cell_type": "code",
   "execution_count": null,
   "metadata": {},
   "outputs": [],
   "source": []
  },
  {
   "cell_type": "code",
   "execution_count": null,
   "metadata": {},
   "outputs": [],
   "source": []
  }
 ],
 "metadata": {
  "kernelspec": {
   "display_name": "Python 3",
   "language": "python",
   "name": "python3"
  },
  "language_info": {
   "codemirror_mode": {
    "name": "ipython",
    "version": 3
   },
   "file_extension": ".py",
   "mimetype": "text/x-python",
   "name": "python",
   "nbconvert_exporter": "python",
   "pygments_lexer": "ipython3",
   "version": "3.6.3"
  }
 },
 "nbformat": 4,
 "nbformat_minor": 2
}
