{
 "cells": [
  {
   "cell_type": "code",
   "execution_count": 3,
   "metadata": {},
   "outputs": [
    {
     "name": "stdout",
     "output_type": "stream",
     "text": [
      "Hello World\n"
     ]
    }
   ],
   "source": [
    "print(\"Hello World\")"
   ]
  },
  {
   "cell_type": "code",
   "execution_count": 4,
   "metadata": {},
   "outputs": [],
   "source": [
    "from bs4 import BeautifulSoup\n",
    "import requests"
   ]
  },
  {
   "cell_type": "code",
   "execution_count": 5,
   "metadata": {},
   "outputs": [],
   "source": [
    "url = \"https://www.newegg.com/Product/ProductList.aspx?Submit=ENE&DEPA=0&Order=BESTMATCH&Description=mobile&ignorear=0&N=-1&isNodeId=1\"\n",
    "headers = {'User-Agent': 'Chrome/54.0.2840.71'}"
   ]
  },
  {
   "cell_type": "code",
   "execution_count": 6,
   "metadata": {},
   "outputs": [
    {
     "name": "stdout",
     "output_type": "stream",
     "text": [
      "https://www.newegg.com/Product/ProductList.aspx?Submit=ENE&DEPA=0&Order=BESTMATCH&Description=mobile&ignorear=0&N=-1&isNodeId=1\n"
     ]
    }
   ],
   "source": [
    "print(url)"
   ]
  },
  {
   "cell_type": "code",
   "execution_count": 8,
   "metadata": {},
   "outputs": [],
   "source": [
    "response = requests.get(url, headers)\n",
    "# print(response.content)"
   ]
  },
  {
   "cell_type": "code",
   "execution_count": 11,
   "metadata": {},
   "outputs": [],
   "source": [
    "soup = BeautifulSoup(response.content, \"html\")\n",
    "# print(soup.prettify())"
   ]
  },
  {
   "cell_type": "code",
   "execution_count": 12,
   "metadata": {},
   "outputs": [
    {
     "name": "stdout",
     "output_type": "stream",
     "text": [
      "Title Tag: <title>mobile - Newegg.com</title>\n"
     ]
    }
   ],
   "source": [
    "# title of the page\n",
    "print(\"Title Tag:\", soup.title)"
   ]
  },
  {
   "cell_type": "code",
   "execution_count": 13,
   "metadata": {},
   "outputs": [
    {
     "name": "stdout",
     "output_type": "stream",
     "text": [
      "Tag Name: title\n",
      "Title String: mobile - Newegg.com\n"
     ]
    }
   ],
   "source": [
    "# # get attributes:\n",
    "print(\"Tag Name:\", soup.title.name)\n",
    "\n",
    "# # get values:\n",
    "print(\"Title String:\",soup.title.string)"
   ]
  },
  {
   "cell_type": "code",
   "execution_count": 17,
   "metadata": {},
   "outputs": [
    {
     "name": "stdout",
     "output_type": "stream",
     "text": [
      "<h1 class=\"page-title-text\">\"mobile\"</h1>\n",
      "h1\n",
      "\"mobile\"\n",
      "<p>Newegg.com - A great place to buy computers, computer parts, electronics, software, accessories, and DVDs online. With great prices, fast shipping, and top-rated customer service - Newegg shopping upgraded ™</p>\n"
     ]
    }
   ],
   "source": [
    "print(soup.h1)\n",
    "# h1 to h6\n",
    "\n",
    "print(soup.h1.name)\n",
    "print(soup.h1.string)\n",
    "\n",
    "# # getting specific values:\n",
    "print(soup.p)\n",
    "# paragraph"
   ]
  },
  {
   "cell_type": "code",
   "execution_count": 20,
   "metadata": {},
   "outputs": [],
   "source": [
    "# all p tags\n",
    "# print(soup.find_all('p'))\n",
    "\n",
    "# \"\"\"\n",
    "#     <div class = \"product-info\">\n",
    "#         content\n",
    "#     </div>\n",
    "    \n",
    "#     <div class = \"product-info\">\n",
    "#         content\n",
    "#     </div>\n",
    "    \n",
    "#     <div class = \"product-info\">\n",
    "#         content\n",
    "#     </div>\n",
    "    \n",
    "#     <div class = \"product-excess\">\n",
    "#         content\n",
    "#     </div>\n",
    "# \"\"\""
   ]
  },
  {
   "cell_type": "code",
   "execution_count": 22,
   "metadata": {},
   "outputs": [],
   "source": [
    "information = soup.find(\"div\", {\"class\":\"item-container\"})\n",
    "# print(information)"
   ]
  },
  {
   "cell_type": "code",
   "execution_count": 23,
   "metadata": {},
   "outputs": [],
   "source": [
    "containers = soup.findAll(\"div\", {\"class\":\"item-container\"})"
   ]
  },
  {
   "cell_type": "code",
   "execution_count": 24,
   "metadata": {},
   "outputs": [
    {
     "data": {
      "text/plain": [
       "36"
      ]
     },
     "execution_count": 24,
     "metadata": {},
     "output_type": "execute_result"
    }
   ],
   "source": [
    "len(containers)"
   ]
  },
  {
   "cell_type": "code",
   "execution_count": 36,
   "metadata": {},
   "outputs": [
    {
     "name": "stdout",
     "output_type": "stream",
     "text": [
      "Honor\n"
     ]
    }
   ],
   "source": [
    "# 0 1 2 3 4 5 6 7 8 9 \n",
    "# A B C ....\n",
    "\n",
    "container = containers[0]\n",
    "# print(container)\n",
    "\n",
    "#Brand of the product\n",
    "# print(container.a)\n",
    "# print(container.div)\n",
    "# print(container.div.div)\n",
    "print(container.div.div.a.img[\"title\"])\n",
    "\n",
    "brand_container= container.div.div.a.img[\"title\"]\n"
   ]
  },
  {
   "cell_type": "code",
   "execution_count": 38,
   "metadata": {},
   "outputs": [
    {
     "name": "stdout",
     "output_type": "stream",
     "text": [
      "[<a class=\"item-title\" href=\"https://www.newegg.com/Product/Product.aspx?Item=N82E16875646012&amp;cm_re=mobile-_-75-646-012-_-Product\" title=\"View Details\"><i class=\"icon-premier icon-premier-xsm\"></i>Honor 7X Unlocked Smartphone with Dual Camera (5.93\" Red, 32GB Storage 3GB RAM) US Warranty</a>]\n"
     ]
    }
   ],
   "source": [
    "title_container = container.findAll(\"a\", {\"class\":\"item-title\"})\n",
    "print(title_container)"
   ]
  },
  {
   "cell_type": "code",
   "execution_count": 39,
   "metadata": {},
   "outputs": [
    {
     "name": "stdout",
     "output_type": "stream",
     "text": [
      "Honor 7X Unlocked Smartphone with Dual Camera (5.93\" Red, 32GB Storage 3GB RAM) US Warranty\n"
     ]
    }
   ],
   "source": [
    "print(title_container[0].text)"
   ]
  },
  {
   "cell_type": "code",
   "execution_count": 42,
   "metadata": {},
   "outputs": [
    {
     "name": "stdout",
     "output_type": "stream",
     "text": [
      "Free Shipping\n"
     ]
    }
   ],
   "source": [
    "#shipping price\n",
    "shipping_container = container.findAll(\"li\", {\"class\":\"price-ship\"})\n",
    "\n",
    "# print(shipping_container[0].text)\n",
    "# print(shipping_container[0].text.strip())\n",
    "shipping = shipping_container[0].text.strip()\n",
    "print(shipping)"
   ]
  },
  {
   "cell_type": "code",
   "execution_count": 45,
   "metadata": {},
   "outputs": [
    {
     "name": "stdout",
     "output_type": "stream",
     "text": [
      "$ 299\n",
      "c .99\n"
     ]
    }
   ],
   "source": [
    "price_container_d = container.div.findAll(\"div\", {\"class\":\"item-action\"})[0].findAll(\"li\", {\"class\":\"price-current\"})[0].strong.text\n",
    "price_container_c = container.div.findAll(\"div\", {\"class\":\"item-action\"})[0].findAll(\"li\", {\"class\":\"price-current\"})[0].sup.text\n",
    "\n",
    "print(\"$\", price_container_d)\n",
    "print(\"c\", price_container_c)"
   ]
  },
  {
   "cell_type": "code",
   "execution_count": 56,
   "metadata": {},
   "outputs": [],
   "source": [
    "for container in containers:\n",
    "    brand = container.div.div.a.img[\"title\"]\n",
    "    title_container = container.findAll(\"a\", {\"class\":\"item-title\"})\n",
    "    title = title_container[0].text\n",
    "    shipping_container = container.findAll(\"li\", {\"class\":\"price-ship\"})\n",
    "    shipping = shipping_container[0].text.strip()\n",
    "    \n",
    "    price_container_d = container.div.findAll(\"div\", {\"class\":\"item-action\"})[0].findAll(\"li\", {\"class\":\"price-current\"})[0].strong.text\n",
    "    price_container_c = container.div.findAll(\"div\", {\"class\":\"item-action\"})[0].findAll(\"li\", {\"class\":\"price-current\"})[0].sup.text\n",
    "\n",
    "#     print(\"Brand:\" + brand)\n",
    "#     print(\"Product Name:\" + product_name)\n",
    "#     print(\"Shipping:\" + shipping)\n",
    "#     print(\"$\", price_container_d+price_container_c)\n",
    "#     print()"
   ]
  },
  {
   "cell_type": "code",
   "execution_count": 58,
   "metadata": {},
   "outputs": [],
   "source": [
    "#export to csv file\n",
    "\n",
    "filename = \"all_products.csv\"\n",
    "f = open(filename, \"w\")\n",
    "\n",
    "headers = \"Brand, Product Name, Shipping, Price\\n\"\n",
    "f.write(headers)\n",
    "\n",
    "for container in containers:\n",
    "    brand = container.div.div.a.img[\"title\"]\n",
    "    title_container = container.findAll(\"a\", {\"class\":\"item-title\"})\n",
    "    title = title_container[0].text\n",
    "    shipping_container = container.findAll(\"li\", {\"class\":\"price-ship\"})\n",
    "    shipping = shipping_container[0].text.strip()\n",
    "    \n",
    "    price_container_d = container.div.findAll(\"div\", {\"class\":\"item-action\"})[0].findAll(\"li\", {\"class\":\"price-current\"})[0].strong.text\n",
    "    price_container_c = container.div.findAll(\"div\", {\"class\":\"item-action\"})[0].findAll(\"li\", {\"class\":\"price-current\"})[0].sup.text\n",
    "    price = price_container_d+price_container_c\n",
    "    \n",
    "    f.write(brand+\",\"+title.replace(\",\", \"|\")+\",\"+shipping+\",\"+price+\"\\n\")\n",
    "    \n",
    "f.close()"
   ]
  },
  {
   "cell_type": "code",
   "execution_count": null,
   "metadata": {},
   "outputs": [],
   "source": []
  }
 ],
 "metadata": {
  "kernelspec": {
   "display_name": "Python 3",
   "language": "python",
   "name": "python3"
  },
  "language_info": {
   "codemirror_mode": {
    "name": "ipython",
    "version": 3
   },
   "file_extension": ".py",
   "mimetype": "text/x-python",
   "name": "python",
   "nbconvert_exporter": "python",
   "pygments_lexer": "ipython3",
   "version": "3.6.3"
  }
 },
 "nbformat": 4,
 "nbformat_minor": 2
}
