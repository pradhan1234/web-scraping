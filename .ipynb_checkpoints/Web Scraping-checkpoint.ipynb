{
 "cells": [
  {
   "cell_type": "code",
   "execution_count": 1,
   "metadata": {},
   "outputs": [],
   "source": [
    "import bs4 as bs\n",
    "import urllib.request\n",
    "from bs4 import BeautifulSoup\n",
    "import requests"
   ]
  },
  {
   "cell_type": "code",
   "execution_count": 2,
   "metadata": {},
   "outputs": [],
   "source": [
    "# url = \"https://www.amazon.com\"\n",
    "# url = \"https://www.newegg.com/Video-Cards-Video-Devices/Category/ID-38?Tpk=graphics%20cards\"\n",
    "\n",
    "url = \"https://www.newegg.com/Product/ProductList.aspx?Submit=StoreIM&Depa=1&Category=38\"\n",
    "headers = {'User-Agent': 'Mozilla/5.0 (Windows NT 6.3; Win64; x64) AppleWebKit/537.36 (KHTML, like Gecko) Chrome/54.0.2840.71 Safari/537.36'}"
   ]
  },
  {
   "cell_type": "code",
   "execution_count": 3,
   "metadata": {},
   "outputs": [],
   "source": [
    "response = requests.get(url, headers=headers)\n",
    "\n",
    "soup = BeautifulSoup(response.content, \"lxml\")\n",
    "# print(soup)"
   ]
  },
  {
   "cell_type": "code",
   "execution_count": 4,
   "metadata": {},
   "outputs": [
    {
     "name": "stdout",
     "output_type": "stream",
     "text": [
      "<title>Computer Parts, PC Components, Laptop Computers, LED LCD TV, Digital Cameras and more - Newegg.com</title>\n",
      "title\n",
      "Computer Parts, PC Components, Laptop Computers, LED LCD TV, Digital Cameras and more - Newegg.com\n",
      "head\n",
      "<h1 class=\"page-title-text\">Components Featured Items</h1>\n",
      "<p>Newegg.com - A great place to buy computers, computer parts, electronics, software, accessories, and DVDs online. With great prices, fast shipping, and top-rated customer service - Newegg shopping upgraded ™</p>\n"
     ]
    }
   ],
   "source": [
    "#Basic Traversal\n",
    "\n",
    "# title of the page\n",
    "print(soup.title)\n",
    "\n",
    "# get attributes:\n",
    "print(soup.title.name)\n",
    "\n",
    "# get values:\n",
    "print(soup.title.string)\n",
    "\n",
    "# beginning navigation:\n",
    "print(soup.title.parent.name)\n",
    "\n",
    "print(soup.h1)\n",
    "\n",
    "# getting specific values:\n",
    "print(soup.p)\n",
    "\n",
    "# all p tags\n",
    "# print(soup.find_all('p'))\n",
    "\n",
    "#iterate using loop\n",
    "# for paragraph in soup.find_all('p'):\n",
    "#     print(str(paragraph.text))\n",
    "\n",
    "# for url in soup.find_all('a'):\n",
    "#     print(url.get('href'))"
   ]
  },
  {
   "cell_type": "code",
   "execution_count": 5,
   "metadata": {},
   "outputs": [],
   "source": [
    "containers = soup.findAll(\"div\", {\"class\":\"item-container\"})"
   ]
  },
  {
   "cell_type": "code",
   "execution_count": 6,
   "metadata": {},
   "outputs": [
    {
     "name": "stdout",
     "output_type": "stream",
     "text": [
      "32\n"
     ]
    }
   ],
   "source": [
    "print(len(containers))\n",
    "\n",
    "# print(containers[0])\n",
    "# paste to sublime and analyze"
   ]
  },
  {
   "cell_type": "code",
   "execution_count": 7,
   "metadata": {},
   "outputs": [],
   "source": [
    "# \"\"\"\n",
    "# What all information do we need?\n",
    "# Information that repeats everywhere\n",
    "# Brand of the product\n",
    "# Names\n",
    "# Price?\n",
    "# Shipping\n",
    "# \"\"\""
   ]
  },
  {
   "cell_type": "code",
   "execution_count": 8,
   "metadata": {},
   "outputs": [
    {
     "name": "stdout",
     "output_type": "stream",
     "text": [
      "<a class=\"item-brand\" href=\"https://www.newegg.com/GIGABYTE/BrandStore/ID-1314\">\n",
      "<img alt=\"GIGABYTE\" src=\"//c1.neweggimages.com/Brandimage_70x28//Brand1314.gif\" title=\"GIGABYTE\"/>\n",
      "</a>\n",
      "GIGABYTE\n"
     ]
    }
   ],
   "source": [
    "container = containers[0]\n",
    "\n",
    "#Brand of the product\n",
    "# print(container.a)\n",
    "# print(container.div)\n",
    "\n",
    "print(container.div.div.a)\n",
    "\n",
    "#referencing as array\n",
    "print(container.div.div.a.img[\"title\"])\n",
    "\n",
    "# print(container.div.a)\n",
    "\n",
    "# print(container)"
   ]
  },
  {
   "cell_type": "code",
   "execution_count": 9,
   "metadata": {},
   "outputs": [
    {
     "name": "stdout",
     "output_type": "stream",
     "text": [
      "[<a class=\"item-title\" href=\"https://www.newegg.com/Product/Product.aspx?Item=N82E16814125954&amp;ignorebbr=1\" title=\"View Details\"><i class=\"icon-premier icon-premier-xsm\"></i>GIGABYTE AORUS GeForce GTX 1080 Ti DirectX 12 GV-N108TAORUS-11GD Video Card</a>]\n"
     ]
    }
   ],
   "source": [
    "#title of the product\n",
    "title_container = container.findAll(\"a\", {\"class\":\"item-title\"})\n",
    "\n",
    "print(title_container)\n",
    "# print(title_container[0].text)"
   ]
  },
  {
   "cell_type": "code",
   "execution_count": 10,
   "metadata": {},
   "outputs": [
    {
     "name": "stdout",
     "output_type": "stream",
     "text": [
      "\r\n",
      "        Free Shipping\r\n",
      "    \n"
     ]
    }
   ],
   "source": [
    "#shipping price\n",
    "shipping_container = container.findAll(\"li\", {\"class\":\"price-ship\"})\n",
    "\n",
    "print(shipping_container[0].text)\n",
    "# print(shipping_container[0].text.strip())\n",
    "shipping = shipping_container[0].text.strip()"
   ]
  },
  {
   "cell_type": "code",
   "execution_count": 11,
   "metadata": {},
   "outputs": [],
   "source": [
    "#price\n",
    "\n",
    "# print(container.div.findAll(\"div\", {\"class\":\"item-action\"})[0].findAll(\"li\", {\"class\":\"price-current\"})[0].sup.text)\n",
    "price_container_d = container.div.findAll(\"div\", {\"class\":\"item-action\"})[0].findAll(\"li\", {\"class\":\"price-current\"})[0].strong.text\n",
    "price_container_c = container.div.findAll(\"div\", {\"class\":\"item-action\"})[0].findAll(\"li\", {\"class\":\"price-current\"})[0].sup.text"
   ]
  },
  {
   "cell_type": "code",
   "execution_count": 12,
   "metadata": {},
   "outputs": [
    {
     "name": "stdout",
     "output_type": "stream",
     "text": [
      "Brand:GIGABYTE\n",
      "Product Name:GIGABYTE AORUS GeForce GTX 1080 Ti DirectX 12 GV-N108TAORUS-11GD Video Card\n",
      "Shipping:Free Shipping\n",
      "Price:679.99\n",
      "\n",
      "Brand:EVGA\n",
      "Product Name:EVGA GeForce GTX 1070 SC GAMING ACX 3.0 Black Edition, 08G-P4-5173-KR, 8GB GDDR5, LED, DX12 OSD Support (PXOC)\n",
      "Shipping:Free Shipping\n",
      "Price:369.99\n",
      "\n",
      "Brand:ASUS\n",
      "Product Name:ASUS ROG GeForce GTX 1080 STRIX-GTX1080-A8G-GAMING Video Card\n",
      "Shipping:Free Shipping\n",
      "Price:524.99\n",
      "\n",
      "Brand:ZOTAC\n",
      "Product Name:ZOTAC GeForce GTX 1070 Ti DirectX 12 ZT-P10710G-10P Video Card - Mini\n",
      "Shipping:Free Shipping\n",
      "Price:399.99\n",
      "\n",
      "Brand:Sapphire Tech\n",
      "Product Name:Sapphire Radeon NITRO+ RX 580 8GB GDDR5 PCI-E Dual HDMI / DVI-D / Dual DP w/ Backplate (UEFI), 100411NT+8GL\n",
      "Shipping:$4.99 Shipping\n",
      "Price:279.99\n",
      "\n",
      "Brand:ASRock\n",
      "Product Name:ASRock Phantom Gaming X Radeon RX 580 DirectX 12 RX580 8G OC Video Card\n",
      "Shipping:Free Shipping\n",
      "Price:299.99\n",
      "\n",
      "Brand:MSI\n",
      "Product Name:MSI Radeon RX 580 DirectX 12 Radeon RX 580 8G V1 Video Card\n",
      "Shipping:Free Shipping\n",
      "Price:229.99\n",
      "\n",
      "Brand:Sapphire Tech\n",
      "Product Name:SAPPHIRE PULSE Radeon RX Vega 56 DirectX 12 100420PSR Video Card\n",
      "Shipping:$4.99 Shipping\n",
      "Price:479.99\n",
      "\n",
      "Brand:ZOTAC\n",
      "Product Name:ZOTAC GeForce GTX 1080 Ti DirectX 12 ZT-P10810G-10P Video Card\n",
      "Shipping:$4.99 Shipping\n",
      "Price:649.99\n",
      "\n",
      "Brand:ASUS\n",
      "Product Name:ASUS Radeon RX 580 DirectX 12 DUAL-RX580-O8G Video Card\n",
      "Shipping:$4.99 Shipping\n",
      "Price:329.99\n",
      "\n",
      "Brand:GIGABYTE\n",
      "Product Name:GIGABYTE Radeon RX Vega 64 DirectX 12 GV-RXVEGA64GAMING OC-8GD Video Card\n",
      "Shipping:$4.99 Shipping\n",
      "Price:569.99\n",
      "\n",
      "Brand:EVGA\n",
      "Product Name:EVGA GeForce GTX 1080 SC GAMING ACX 3.0, 08G-P4-6183-KR, 8GB GDDR5X, LED, DX12 OSD Support (PXOC)\n",
      "Shipping:$4.99 Shipping\n",
      "Price:509.99\n",
      "\n",
      "Brand:ZOTAC\n",
      "Product Name:ZOTAC GAMING GeForce RTX 2080 AMP 8GB GDDR6 256-bit Gaming Graphics Card, Active Fan Control, Metal Backplate, Spectra Lighting (ZT-T20800D-10P)\n",
      "Shipping:Free Shipping\n",
      "Price:839.99\n",
      "\n",
      "Brand:GIGABYTE\n",
      "Product Name:GIGABYTE GeForce RTX 2080 WINDFORCE OC 8G Video Card, GV-N2080WF3OC-8GC\n",
      "Shipping:Free Shipping\n",
      "Price:789.99\n",
      "\n",
      "Brand:ASUS\n",
      "Product Name:ASUS GeForce RTX 2080 O8G Dual-fan OC Edition GDDR6 HDMI DP 1.4 USB Type-C Graphics Card\n",
      "Shipping:Free Shipping\n",
      "Price:839.99\n",
      "\n",
      "Brand:GIGABYTE\n",
      "Product Name:GIGABYTE GeForce GTX 1080 DirectX 12 GV-N1080WF3OC-8GD Video Card\n",
      "Shipping:Free Shipping\n",
      "Price:469.99\n",
      "\n",
      "Brand:GIGABYTE\n",
      "Product Name:GIGABYTE GeForce GTX 1050 Ti DirectX 12 GV-N105TD5-4GD Video Cards\n",
      "Shipping:$4.99 Shipping\n",
      "Price:179.99\n",
      "\n",
      "Brand:ASUS\n",
      "Product Name:ASUS GeForce GTX 1080 Ti DirectX 12 TURBO-GTX1080TI-11G 11GB 352-Bit GDDR5X PCI Express 3.0 HDCP Ready SLI Support Video Card\n",
      "Shipping:$4.99 Shipping\n",
      "Price:779.99\n",
      "\n",
      "Brand:MSI\n",
      "Product Name:MSI GeForce GTX 1070 DirectX 12 GTX 1070 ARMOR 8G OC Video Card\n",
      "Shipping:$4.99 Shipping\n",
      "Price:399.99\n",
      "\n",
      "Brand:MSI\n",
      "Product Name:MSI GeForce GTX 1080 DirectX 12 GTX 1080 AERO 8G OC Video Card\n",
      "Shipping:$4.99 Shipping\n",
      "Price:489.99\n",
      "\n",
      "Brand:Sapphire Tech\n",
      "Product Name:Sapphire PULSE Radeon RX 580 8GB GDDR5 PCI-E Dual HDMI / DVI-D / Dual DP OC w/ Backplate (UEFI), 100411P8GOCL\n",
      "Shipping:$4.99 Shipping\n",
      "Price:269.99\n",
      "\n",
      "Brand:ASUS\n",
      "Product Name:ASUS GeForce GTX 1060 DUAL-GTX1060-O6G Video Card\n",
      "Shipping:$4.99 Shipping\n",
      "Price:319.99\n",
      "\n",
      "Brand:PowerColor\n",
      "Product Name:PowerColor Radeon RX 570 DirectX 12 AXRX 570 8GBD5-DMV3 Cryptocurrency Video Card - Brown Box (Only Comes with Driver + Manual) - OEM\n",
      "Shipping:$4.99 Shipping\n",
      "Price:199.99\n",
      "\n",
      "Brand:GIGABYTE\n",
      "Product Name:GIGABYTE GeForce GTX 1050 DirectX 12 GV-N1050OC-2GD Video Card\n",
      "Shipping:$4.99 Shipping\n",
      "Price:129.99\n",
      "\n",
      "Brand:EVGA\n",
      "Product Name:EVGA GeForce GTX 1080 Ti FTW3 GAMING, 11G-P4-6696-KR, 11GB GDDR5X, iCX Technology - 9 Thermal Sensors & RGB LED G/P/M\n",
      "Shipping:$4.99 Shipping\n",
      "Price:799.99\n",
      "\n",
      "Brand:PowerColor\n",
      "Product Name:PowerColor RED DRAGON Radeon RX 580 DirectX 12 AXRX 580 8GBD5-3DHDV2/OC Video Card\n",
      "Shipping:$4.99 Shipping\n",
      "Price:269.99\n",
      "\n",
      "Brand:GIGABYTE\n",
      "Product Name:GIGABYTE GeForce GTX 1060 DirectX 12 GV-N1060WF2OC-6GD Video Card\n",
      "Shipping:$4.99 Shipping\n",
      "Price:279.99\n",
      "\n",
      "Brand:ZOTAC\n",
      "Product Name:ZOTAC GeForce GTX 1060 Mini, ZT-P10600A-10L, 6GB GDDR5 Super Compact\n",
      "Shipping:$4.99 Shipping\n",
      "Price:269.99\n",
      "\n",
      "Brand:MSI\n",
      "Product Name:MSI GeForce GTX 1080 DirectX 12 GTX 1080 GAMING X 8G Video Card\n",
      "Shipping:Free Shipping\n",
      "Price:499.99\n",
      "\n",
      "Brand:EVGA\n",
      "Product Name:EVGA GeForce GTX 1080 GAMING ACX 3.0, 08G-P4-6181-KR, 8GB GDDR5X, LED, DX12 OSD Support (PXOC)\n",
      "Shipping:\n",
      "Price: None\n",
      "\n",
      "Brand:EVGA\n",
      "Product Name:EVGA GeForce RTX 2080 XC GAMING, 08G-P4-2182-KR, 8GB GDDR6, Dual HDB Fans & RGB LED\n",
      "Shipping:Free Shipping\n",
      "Price:749.99\n",
      "\n",
      "Brand:MSI\n",
      "Product Name:MSI Radeon RX 560 DirectX 12 Radeon RX 560 4GT LP OC Video Card\n",
      "Shipping:$4.99 Shipping\n",
      "Price:124.99\n",
      "\n"
     ]
    }
   ],
   "source": [
    "for container in containers:\n",
    "    brand = container.div.div.a.img[\"title\"]\n",
    "   \n",
    "    title_container = container.findAll(\"a\", {\"class\":\"item-title\"})\n",
    "    product_name = title_container[0].text\n",
    "    \n",
    "    shipping_container = container.findAll(\"li\", {\"class\":\"price-ship\"})\n",
    "    shipping = shipping_container[0].text.strip()\n",
    "    \n",
    "    print(\"Brand:\" + brand)\n",
    "    print(\"Product Name:\" + product_name)\n",
    "    print(\"Shipping:\" + shipping)\n",
    "    \n",
    "    try:\n",
    "        price_container_d = container.div.findAll(\"div\", {\"class\":\"item-action\"})[0].findAll(\"li\", {\"class\":\"price-current\"})[0].strong.text\n",
    "        price_container_c = container.div.findAll(\"div\", {\"class\":\"item-action\"})[0].findAll(\"li\", {\"class\":\"price-current\"})[0].sup.text\n",
    "        print(\"Price:\"+price_container_d+price_container_c)\n",
    "    except:\n",
    "        print(\"Price: None\")\n",
    "    \n",
    "   \n",
    "    \n",
    "    print()\n",
    "    "
   ]
  },
  {
   "cell_type": "code",
   "execution_count": 13,
   "metadata": {},
   "outputs": [],
   "source": [
    "#export to csv file\n",
    "\n",
    "filename = \"all_products.csv\"\n",
    "\n",
    "f = open(filename, \"w\")\n",
    "\n",
    "headers = \"Brand, Product Name, Shipping\\n\"\n",
    "f.write(headers)\n",
    "\n",
    "for container in containers:\n",
    "    brand = container.div.div.a.img[\"title\"]\n",
    "   \n",
    "    title_container = container.findAll(\"a\", {\"class\":\"item-title\"})\n",
    "    product_name = title_container[0].text\n",
    "    \n",
    "    shipping_container = container.findAll(\"li\", {\"class\":\"price-ship\"})\n",
    "    shipping = shipping_container[0].text.strip()\n",
    "\n",
    "    f.write(brand+\",\"+product_name.replace(\",\", \"|\")+\",\"+shipping+\"\\n\")\n",
    "#     print(\"Brand:\" + brand)\n",
    "#     print(\"Product Name:\" + product_name)\n",
    "#     print(\"Shipping:\" + shipping)\n",
    "#     print()\n",
    "f.close()"
   ]
  }
 ],
 "metadata": {
  "kernelspec": {
   "display_name": "Python 3",
   "language": "python",
   "name": "python3"
  },
  "language_info": {
   "codemirror_mode": {
    "name": "ipython",
    "version": 3
   },
   "file_extension": ".py",
   "mimetype": "text/x-python",
   "name": "python",
   "nbconvert_exporter": "python",
   "pygments_lexer": "ipython3",
   "version": "3.6.3"
  }
 },
 "nbformat": 4,
 "nbformat_minor": 2
}
